{
 "metadata": {
  "language_info": {
   "codemirror_mode": {
    "name": "ipython",
    "version": 3
   },
   "file_extension": ".py",
   "mimetype": "text/x-python",
   "name": "python",
   "nbconvert_exporter": "python",
   "pygments_lexer": "ipython3",
   "version": "3.8.0-final"
  },
  "orig_nbformat": 2,
  "kernelspec": {
   "name": "python3",
   "display_name": "Python 3.8.0 64-bit ('TOC-2020': pipenv)",
   "metadata": {
    "interpreter": {
     "hash": "e5db2be6b29554a54e17b9b3b2206914bb6e333b487ff52226298b290ead3d34"
    }
   }
  }
 },
 "nbformat": 4,
 "nbformat_minor": 2,
 "cells": [
  {
   "cell_type": "code",
   "execution_count": 3,
   "metadata": {},
   "outputs": [],
   "source": [
    "import requests\n",
    "from lxml import html\n",
    "from bs4 import BeautifulSoup as bs"
   ]
  },
  {
   "cell_type": "code",
   "execution_count": 85,
   "metadata": {},
   "outputs": [],
   "source": [
    "sport_dict = {\n",
    "         '田徑'   : 'A',\n",
    "         '足球'   : 'B',\n",
    "         '籃球'   : 'C',\n",
    "         '排球'   : 'D',\n",
    "         '網球'   : 'E',\n",
    "         '棒球'   : 'F',\n",
    "         '壘球'   : 'G',\n",
    "         '橄欖球' : 'H',\n",
    "         '羽球'   : 'S',\n",
    "         '桌球'   : 'T'\n",
    "    }\n",
    "volley_court_dict = {\n",
    "     '00':'光復低場排球1',\n",
    "     '01':'光復低場排球1',\n",
    "     '02':'光復低場排球1',\n",
    "     '10':'光復低場排球2',\n",
    "     '11':'光復低場排球2',\n",
    "     '12':'光復低場排球2',\n",
    "     '20':'光復低場排球3',\n",
    "     '21':'光復低場排球3',\n",
    "     '22':'光復低場排球3',\n",
    "     '30':'光復低場排球4',\n",
    "     '31':'光復低場排球4',\n",
    "     '32':'光復低場排球4',\n",
    "     '40':'光復低場排球5',\n",
    "     '41':'光復低場排球5',\n",
    "     '42':'光復低場排球5',\n",
    "     '50':'光復高場排球東',\n",
    "     '51':'光復高場排球東',\n",
    "     '52':'光復高場排球東',\n",
    "     '60':'光復高場排球西',\n",
    "     '61':'光復高場排球西',\n",
    "     '62':'光復高場排球西',\n",
    "}\n",
    "time_dict = {\n",
    "     '0':'0600~1200',\n",
    "     '1':'1200~1800',\n",
    "     '2':'1800~2100'\n",
    "}"
   ]
  },
  {
   "cell_type": "code",
   "execution_count": 49,
   "metadata": {},
   "outputs": [],
   "source": [
    "def get_sport_raw(date:str, sport_in:str):\n",
    "    session = requests.session()\n",
    "    url = 'https://cet.acad.ncku.edu.tw/ste/index.php?c=ste11211'\n",
    "    headers = {\n",
    "        'User-Agent': 'Mozilla/5.0 (Macintosh; Intel Mac OS X 11_0_1) AppleWebKit/537.36 (KHTML, like Gecko) Chrome/87.0.4280.88 Safari/537.36',\n",
    "        # 'Cookie': 'PHPSESSID=1aea228467450d51917fc7f8f835ff86',\n",
    "        'Cookie': 'PHPSESSID=8f4bace3465bd821988e2ed78be708b8'\n",
    "        # TODO: 把這邊的 Cookie 改成 CookieJar\n",
    "        # 'X-Requested-With': 'XMLHttpRequest'\n",
    "    }\n",
    "\n",
    "    payload = {\n",
    "        'sport': sport_dict[sport_in],\n",
    "        'sdate': date,\n",
    "        'c': 'ste11211',\n",
    "        'm': 'read'\n",
    "    }\n",
    "\n",
    "\n",
    "    volleyball = session.post(url=url, headers=headers, data=payload)\n",
    "    # print(session.cookies.get)\n",
    "    # print(login.cookies, login.cookies.get_dict())\n",
    "    # print(headers['Cookie'])\n",
    "\n",
    "    # if login.cookies.get_dict():        #保持cookie有效\n",
    "        # login.cookies.update(login.cookies)\n",
    "    # volleyball = session.post(url=url_get, headers=headers, data=payload)\n",
    "    # print(login.cookies, bool(login.cookies.get_dict()))\n",
    "    # print(login.text)\n",
    "    # print(volleyball.text)\n",
    "    # with open('test.html', 'w', encoding='utf-8') as fp:\n",
    "    #     fp.write(volleyball.text)\n",
    "\n",
    "    # replace is for '體育室 <br/>(數學系)' (in raw)\n",
    "    # but in '體育室 <br>(數學系)' (in html)\n",
    "    return bs(volleyball.text.replace('<br>', ''), 'html.parser')"
   ]
  },
  {
   "cell_type": "code",
   "execution_count": 99,
   "metadata": {},
   "outputs": [
    {
     "output_type": "execute_result",
     "data": {
      "text/plain": [
       "<div class=\"site_table_div\">\n",
       "<h2>\n",
       "\t\t2020年12月22日 \t</h2>\n",
       "<table class=\"gray_table2\">\n",
       "<thead>\n",
       "<tr>\n",
       "<!-- 顯示欄位標題 -->\n",
       "<th style=\"width:10%;\"></th>\n",
       "<th style=\"width:5%;\">06:0007:00</th><th style=\"width:5%;\">07:0008:00</th><th style=\"width:5%;\">08:0009:00</th><th style=\"width:5%;\">09:0010:00</th><th style=\"width:5%;\">10:0011:00</th><th style=\"width:5%;\">11:0012:00</th><th style=\"width:5%;\">12:0013:00</th><th style=\"width:5%;\">13:0014:00</th><th style=\"width:5%;\">14:0015:00</th><th style=\"width:5%;\">15:0016:00</th><th style=\"width:5%;\">16:0017:00</th><th style=\"width:5%;\">17:0018:00</th><th style=\"width:5%;\">18:0019:00</th><th style=\"width:5%;\">19:0020:00</th><th style=\"width:5%;\">20:0021:00</th>\n",
       "</tr>\n",
       "</thead>\n",
       "<tbody>\n",
       "<!-- 顯示資料 -->\n",
       "<tr><th>光復低場排球1D1001</th><td class=\"cell3\" colspan=\"6\">H2統計系</td><td class=\"cell4\" colspan=\"6\">體育室  </td><td class=\"cell3\" colspan=\"3\">Q1微電所</td></tr><tr><th>光復低場排球2D1002</th><td colspan=\"6\"></td><td class=\"cell4\" colspan=\"6\">體育室  </td><td class=\"cell3\" colspan=\"3\">E8水利系</td></tr><tr><th>光復低場排球3D1003</th><td colspan=\"6\"></td><td class=\"cell4\" colspan=\"6\">體育室  </td><td class=\"cell3\" colspan=\"3\">E4資源系</td></tr><tr><th>光復低場排球4D1004</th><td class=\"cell3\" colspan=\"6\">H2統計系</td><td class=\"cell4\" colspan=\"6\">體育室  </td><td class=\"cell3\" colspan=\"3\">E4資源系</td></tr><tr><th>光復低場排球5D1005</th><td class=\"cell3\" colspan=\"6\">E1機械系</td><td class=\"cell4\" colspan=\"6\">體育室  </td><td class=\"cell3\" colspan=\"3\">F7資訊系</td></tr><tr><th>光復高場排球東D1006</th><td class=\"cell3\" colspan=\"6\">H3工資系</td><td class=\"cell4\" colspan=\"6\">體育室  </td><td class=\"cell3\" colspan=\"3\">L2物理所</td></tr><tr><th>光復高場排球西D1007</th><td colspan=\"6\"></td><td class=\"cell4\" colspan=\"6\">體育室  </td><td class=\"cell3\" colspan=\"3\">S9臨醫所</td></tr> </tbody>\n",
       "</table>\n",
       "\n",
       "<table style=\"font-size: 10pt; color: #333333; float:right\">\n",
       "<tr>\n",
       "<td class=\"cell_w\">  </td><td>可借用</td>\n",
       "<td class=\"cell4\">  </td><td>不可借用</td>\n",
       "<td class=\"cell3\">  </td><td>已借用</td>\n",
       "<td class=\"cell2\">  </td><td>已預約</td>\n",
       "</tr>\n",
       "</table>\n",
       "</div>"
      ]
     },
     "metadata": {},
     "execution_count": 99
    }
   ],
   "source": [
    "# get_sport_raw('20201222', '排球')"
   ]
  },
  {
   "cell_type": "code",
   "execution_count": 65,
   "metadata": {},
   "outputs": [],
   "source": [
    "def retreive_form(soup):\n",
    "    if not isinstance(soup, type(bs())):\n",
    "        raise TypeError(\"soup must be a \" + repr(type(bs())))\n",
    "    else:\n",
    "        form =[]\n",
    "        row = []\n",
    "        counter = 0\n",
    "        for content in soup.find_all('td'):\n",
    "            # print(content, '\\t\\t', repr(content.string))\n",
    "            if content.string not in ('\\xa0\\xa0', '可借用', '不可借用', '已借用'):\n",
    "                if counter == 3:\n",
    "                    counter = 0\n",
    "                    form.append(row)\n",
    "                    row = []\n",
    "                row.append(content.string)\n",
    "                counter += 1\n",
    "    \n",
    "    return form"
   ]
  },
  {
   "cell_type": "code",
   "execution_count": 43,
   "metadata": {
    "tags": []
   },
   "outputs": [],
   "source": [
    "from datetime import datetime, timedelta\n",
    "def gen_dates(start:str, end:str):\n",
    "    start_date = datetime.strptime(start, '%Y%m%d')\n",
    "    end_date = datetime.strptime(end, '%Y%m%d')\n",
    "    serial = []\n",
    "    if (end_date - start_date).days >= 0:\n",
    "        for i in range((end_date - start_date).days+1):\n",
    "            tmp = start_date + timedelta(days=i)\n",
    "            serial.append('{0:>{3}4}{1:>{3}2}{2:>{3}2}'.format(tmp.year, tmp.month, tmp.day, 0))\n",
    "            \n",
    "    return serial"
   ]
  },
  {
   "cell_type": "code",
   "execution_count": 8,
   "metadata": {},
   "outputs": [
    {
     "output_type": "error",
     "ename": "NameError",
     "evalue": "name 'soup' is not defined",
     "traceback": [
      "\u001b[0;31m---------------------------------------------------------------------------\u001b[0m",
      "\u001b[0;31mNameError\u001b[0m                                 Traceback (most recent call last)",
      "\u001b[0;32m<ipython-input-8-23ceae374089>\u001b[0m in \u001b[0;36m<module>\u001b[0;34m\u001b[0m\n\u001b[1;32m      1\u001b[0m \u001b[0;31m# output to html file\u001b[0m\u001b[0;34m\u001b[0m\u001b[0;34m\u001b[0m\u001b[0;34m\u001b[0m\u001b[0m\n\u001b[1;32m      2\u001b[0m \u001b[0;32mwith\u001b[0m \u001b[0mopen\u001b[0m\u001b[0;34m(\u001b[0m\u001b[0;34m'test1.html'\u001b[0m\u001b[0;34m,\u001b[0m \u001b[0;34m'w'\u001b[0m\u001b[0;34m,\u001b[0m \u001b[0mencoding\u001b[0m\u001b[0;34m=\u001b[0m\u001b[0;34m'utf-8'\u001b[0m\u001b[0;34m)\u001b[0m \u001b[0;32mas\u001b[0m \u001b[0mfp\u001b[0m\u001b[0;34m:\u001b[0m\u001b[0;34m\u001b[0m\u001b[0;34m\u001b[0m\u001b[0m\n\u001b[0;32m----> 3\u001b[0;31m     \u001b[0mfp\u001b[0m\u001b[0;34m.\u001b[0m\u001b[0mwrite\u001b[0m\u001b[0;34m(\u001b[0m\u001b[0msoup\u001b[0m\u001b[0;34m.\u001b[0m\u001b[0mprettify\u001b[0m\u001b[0;34m(\u001b[0m\u001b[0;34m)\u001b[0m\u001b[0;34m)\u001b[0m\u001b[0;34m\u001b[0m\u001b[0;34m\u001b[0m\u001b[0m\n\u001b[0m",
      "\u001b[0;31mNameError\u001b[0m: name 'soup' is not defined"
     ]
    }
   ],
   "source": [
    "# output to html file\n",
    "with open('test1.html', 'w', encoding='utf-8') as fp:\n",
    "    fp.write(soup.prettify())"
   ]
  },
  {
   "cell_type": "code",
   "execution_count": 51,
   "metadata": {},
   "outputs": [
    {
     "output_type": "execute_result",
     "data": {
      "text/plain": [
       "[['F7資訊系', '體育室  ', 'I6物治系'],\n",
       " ['H1會計系', '體育室  ', 'B2外文系'],\n",
       " ['F1系統系', '體育室  ', '體育室  (數學系)'],\n",
       " [None, '體育室  ', 'I5醫學系'],\n",
       " ['F2都計系', '體育室  ', 'K5台文所'],\n",
       " ['F6測量系', '體育室  ', '體育室  (貴重儀器中心)'],\n",
       " ['P8醫工所', '體育室  ', 'I8藥學系']]"
      ]
     },
     "metadata": {},
     "execution_count": 51
    }
   ],
   "source": [
    "new_s = get_sport_raw('20201221', '排球')\n",
    "t = retreive_form(new_s)\n",
    "t\n",
    "# print(t)\n",
    "# print(type(new_s))\n",
    "# new_s = new_s.replace('<br/', '')\n",
    "# print(repr(new_s))"
   ]
  },
  {
   "cell_type": "code",
   "execution_count": 155,
   "metadata": {},
   "outputs": [],
   "source": [
    "seq = gen_dates('20201224', '20201231')\n",
    "def get_mapped_form(time_seq:list):\n",
    "    situation = {}\n",
    "    for dates in time_seq:\n",
    "        print(dates)\n",
    "        m = get_sport_raw(dates, '排球')\n",
    "        situation[dates] = retreive_form(m)\n",
    "        # print(situation)"
   ]
  },
  {
   "cell_type": "code",
   "execution_count": 147,
   "metadata": {},
   "outputs": [],
   "source": [
    "# find empty time\n",
    "def find_free_time(seq:list, gender:str='a'):\n",
    "    # gender = 'a' -> both gender\n",
    "    free = []\n",
    "    for dates in seq:\n",
    "        for row in range(7):\n",
    "            for column in range(3):\n",
    "                # print(type(situation[dates][row][column]))\n",
    "                if isinstance(situation[dates][row][column], type(None)):\n",
    "                    element = '{0} {1} {2}'.format(dates, time_dict[str(column)], court_dict[str(row*10+column).zfill(2)])\n",
    "                    if gender.lower() == 'b': # boy\n",
    "                        if row in [3, 4, 5]:\n",
    "                            continue\n",
    "                    elif gender.lower() == 'g': # girl\n",
    "                        if row not in [3, 4, 5]:\n",
    "                            continue\n",
    "                    free.append(element)\n",
    "    return free\n",
    "                    "
   ]
  },
  {
   "cell_type": "code",
   "execution_count": 153,
   "metadata": {
    "tags": []
   },
   "outputs": [],
   "source": [
    "# format outcome\n",
    "free = find_free_time(seq, 'g')\n",
    "def format_free_time(free:list):\n",
    "    new_free = []\n",
    "    if len(free) != 1:\n",
    "        old = -1\n",
    "        for lines in free:\n",
    "            if old == -1:\n",
    "                old = int(lines[4:8])\n",
    "            elif old != int(lines[4:8]):\n",
    "                old = int(lines[4:8])\n",
    "                new_free.append('-' * (len(lines)+6))\n",
    "            new_free.append(lines)\n",
    "    \n",
    "    return new_free"
   ]
  },
  {
   "cell_type": "code",
   "execution_count": 154,
   "metadata": {},
   "outputs": [
    {
     "output_type": "stream",
     "name": "stdout",
     "text": [
      "20201228 0600~1200 光復低場排球4\n20201228 0600~1200 光復低場排球5\n20201228 0600~1200 光復高場排球東\n--------------------------------\n20201229 0600~1200 光復低場排球4\n20201229 0600~1200 光復低場排球5\n20201229 0600~1200 光復高場排球東\n--------------------------------\n20201230 0600~1200 光復低場排球4\n20201230 0600~1200 光復低場排球5\n20201230 1800~2100 光復低場排球5\n20201230 0600~1200 光復高場排球東\n--------------------------------\n20201231 0600~1200 光復低場排球4\n20201231 1800~2100 光復低場排球4\n20201231 0600~1200 光復低場排球5\n20201231 0600~1200 光復高場排球東\n"
     ]
    }
   ],
   "source": [
    "for content in format_free_time(free):\n",
    "    print(content)"
   ]
  },
  {
   "cell_type": "code",
   "execution_count": 256,
   "metadata": {},
   "outputs": [],
   "source": [
    "soup = bs(result.text, 'html.parser')\n",
    "# soup"
   ]
  },
  {
   "cell_type": "code",
   "execution_count": 405,
   "metadata": {},
   "outputs": [],
   "source": [
    "class a:\n",
    "    value = 3"
   ]
  },
  {
   "cell_type": "code",
   "execution_count": 407,
   "metadata": {},
   "outputs": [],
   "source": [
    "def add(t):\n",
    "    print('before =', t.value)\n",
    "    t.value = 0\n",
    "    print('after =', t.value)\n",
    "    return t "
   ]
  },
  {
   "cell_type": "code",
   "execution_count": null,
   "metadata": {},
   "outputs": [],
   "source": []
  }
 ]
}