{
 "metadata": {
  "language_info": {
   "codemirror_mode": {
    "name": "ipython",
    "version": 3
   },
   "file_extension": ".py",
   "mimetype": "text/x-python",
   "name": "python",
   "nbconvert_exporter": "python",
   "pygments_lexer": "ipython3",
   "version": "3.8.0-final"
  },
  "orig_nbformat": 2,
  "kernelspec": {
   "name": "python3",
   "display_name": "Python 3.8.0 64-bit ('TOC-2020': pipenv)",
   "metadata": {
    "interpreter": {
     "hash": "e5db2be6b29554a54e17b9b3b2206914bb6e333b487ff52226298b290ead3d34"
    }
   }
  }
 },
 "nbformat": 4,
 "nbformat_minor": 2,
 "cells": [
  {
   "cell_type": "code",
   "execution_count": 305,
   "metadata": {},
   "outputs": [],
   "source": [
    "import requests\n",
    "import shutil\n",
    "from lxml import html\n",
    "from bs4 import BeautifulSoup as bs\n",
    "from IPython.display import Image, display"
   ]
  },
  {
   "cell_type": "code",
   "execution_count": 85,
   "metadata": {},
   "outputs": [],
   "source": [
    "sport_dict = {\n",
    "         '田徑'   : 'A',\n",
    "         '足球'   : 'B',\n",
    "         '籃球'   : 'C',\n",
    "         '排球'   : 'D',\n",
    "         '網球'   : 'E',\n",
    "         '棒球'   : 'F',\n",
    "         '壘球'   : 'G',\n",
    "         '橄欖球' : 'H',\n",
    "         '羽球'   : 'S',\n",
    "         '桌球'   : 'T'\n",
    "    }\n",
    "volley_court_dict = {\n",
    "     '00':'光復低場排球1',\n",
    "     '01':'光復低場排球1',\n",
    "     '02':'光復低場排球1',\n",
    "     '10':'光復低場排球2',\n",
    "     '11':'光復低場排球2',\n",
    "     '12':'光復低場排球2',\n",
    "     '20':'光復低場排球3',\n",
    "     '21':'光復低場排球3',\n",
    "     '22':'光復低場排球3',\n",
    "     '30':'光復低場排球4',\n",
    "     '31':'光復低場排球4',\n",
    "     '32':'光復低場排球4',\n",
    "     '40':'光復低場排球5',\n",
    "     '41':'光復低場排球5',\n",
    "     '42':'光復低場排球5',\n",
    "     '50':'光復高場排球東',\n",
    "     '51':'光復高場排球東',\n",
    "     '52':'光復高場排球東',\n",
    "     '60':'光復高場排球西',\n",
    "     '61':'光復高場排球西',\n",
    "     '62':'光復高場排球西',\n",
    "}\n",
    "time_dict = {\n",
    "     '0':'0600~1200',\n",
    "     '1':'1200~1800',\n",
    "     '2':'1800~2100'\n",
    "}"
   ]
  },
  {
   "cell_type": "code",
   "execution_count": 49,
   "metadata": {},
   "outputs": [],
   "source": [
    "def get_sport_raw(date:str, sport_in:str):\n",
    "    session = requests.session()\n",
    "    url = 'https://cet.acad.ncku.edu.tw/ste/index.php?c=ste11211'\n",
    "    headers = {\n",
    "        'User-Agent': 'Mozilla/5.0 (Macintosh; Intel Mac OS X 11_0_1) AppleWebKit/537.36 (KHTML, like Gecko) Chrome/87.0.4280.88 Safari/537.36',\n",
    "        # 'Cookie': 'PHPSESSID=1aea228467450d51917fc7f8f835ff86',\n",
    "        'Cookie': 'PHPSESSID=8f4bace3465bd821988e2ed78be708b8'\n",
    "        # TODO: 把這邊的 Cookie 改成 CookieJar\n",
    "        # 'X-Requested-With': 'XMLHttpRequest'\n",
    "    }\n",
    "\n",
    "    payload = {\n",
    "        'sport': sport_dict[sport_in],\n",
    "        'sdate': date,\n",
    "        'c': 'ste11211',\n",
    "        'm': 'read'\n",
    "    }\n",
    "\n",
    "\n",
    "    volleyball = session.post(url=url, headers=headers, data=payload)\n",
    "    # print(session.cookies.get)\n",
    "    # print(login.cookies, login.cookies.get_dict())\n",
    "    # print(headers['Cookie'])\n",
    "\n",
    "    # if login.cookies.get_dict():        #保持cookie有效\n",
    "        # login.cookies.update(login.cookies)\n",
    "    # volleyball = session.post(url=url_get, headers=headers, data=payload)\n",
    "    # print(login.cookies, bool(login.cookies.get_dict()))\n",
    "    # print(login.text)\n",
    "    # print(volleyball.text)\n",
    "    # with open('test.html', 'w', encoding='utf-8') as fp:\n",
    "    #     fp.write(volleyball.text)\n",
    "\n",
    "    # replace is for '體育室 <br/>(數學系)' (in raw)\n",
    "    # but in '體育室 <br>(數學系)' (in html)\n",
    "    return bs(volleyball.text.replace('<br>', ''), 'html.parser')"
   ]
  },
  {
   "cell_type": "code",
   "execution_count": 159,
   "metadata": {},
   "outputs": [],
   "source": [
    "# get_sport_raw('20201222', '排球')"
   ]
  },
  {
   "cell_type": "code",
   "execution_count": 65,
   "metadata": {},
   "outputs": [],
   "source": [
    "def retreive_form(soup):\n",
    "    if not isinstance(soup, type(bs())):\n",
    "        raise TypeError(\"soup must be a \" + repr(type(bs())))\n",
    "    else:\n",
    "        form =[]\n",
    "        row = []\n",
    "        counter = 0\n",
    "        for content in soup.find_all('td'):\n",
    "            # print(content, '\\t\\t', repr(content.string))\n",
    "            if content.string not in ('\\xa0\\xa0', '可借用', '不可借用', '已借用'):\n",
    "                if counter == 3:\n",
    "                    counter = 0\n",
    "                    form.append(row)\n",
    "                    row = []\n",
    "                row.append(content.string)\n",
    "                counter += 1\n",
    "    \n",
    "    return form"
   ]
  },
  {
   "cell_type": "code",
   "execution_count": 43,
   "metadata": {
    "tags": []
   },
   "outputs": [],
   "source": [
    "from datetime import datetime, timedelta\n",
    "def gen_dates(start:str, end:str):\n",
    "    start_date = datetime.strptime(start, '%Y%m%d')\n",
    "    end_date = datetime.strptime(end, '%Y%m%d')\n",
    "    serial = []\n",
    "    if (end_date - start_date).days >= 0:\n",
    "        for i in range((end_date - start_date).days+1):\n",
    "            tmp = start_date + timedelta(days=i)\n",
    "            serial.append('{0:>{3}4}{1:>{3}2}{2:>{3}2}'.format(tmp.year, tmp.month, tmp.day, 0))\n",
    "            \n",
    "    return serial"
   ]
  },
  {
   "cell_type": "code",
   "execution_count": 8,
   "metadata": {},
   "outputs": [
    {
     "output_type": "error",
     "ename": "NameError",
     "evalue": "name 'soup' is not defined",
     "traceback": [
      "\u001b[0;31m---------------------------------------------------------------------------\u001b[0m",
      "\u001b[0;31mNameError\u001b[0m                                 Traceback (most recent call last)",
      "\u001b[0;32m<ipython-input-8-23ceae374089>\u001b[0m in \u001b[0;36m<module>\u001b[0;34m\u001b[0m\n\u001b[1;32m      1\u001b[0m \u001b[0;31m# output to html file\u001b[0m\u001b[0;34m\u001b[0m\u001b[0;34m\u001b[0m\u001b[0;34m\u001b[0m\u001b[0m\n\u001b[1;32m      2\u001b[0m \u001b[0;32mwith\u001b[0m \u001b[0mopen\u001b[0m\u001b[0;34m(\u001b[0m\u001b[0;34m'test1.html'\u001b[0m\u001b[0;34m,\u001b[0m \u001b[0;34m'w'\u001b[0m\u001b[0;34m,\u001b[0m \u001b[0mencoding\u001b[0m\u001b[0;34m=\u001b[0m\u001b[0;34m'utf-8'\u001b[0m\u001b[0;34m)\u001b[0m \u001b[0;32mas\u001b[0m \u001b[0mfp\u001b[0m\u001b[0;34m:\u001b[0m\u001b[0;34m\u001b[0m\u001b[0;34m\u001b[0m\u001b[0m\n\u001b[0;32m----> 3\u001b[0;31m     \u001b[0mfp\u001b[0m\u001b[0;34m.\u001b[0m\u001b[0mwrite\u001b[0m\u001b[0;34m(\u001b[0m\u001b[0msoup\u001b[0m\u001b[0;34m.\u001b[0m\u001b[0mprettify\u001b[0m\u001b[0;34m(\u001b[0m\u001b[0;34m)\u001b[0m\u001b[0;34m)\u001b[0m\u001b[0;34m\u001b[0m\u001b[0;34m\u001b[0m\u001b[0m\n\u001b[0m",
      "\u001b[0;31mNameError\u001b[0m: name 'soup' is not defined"
     ]
    }
   ],
   "source": [
    "# output to html file\n",
    "with open('test1.html', 'w', encoding='utf-8') as fp:\n",
    "    fp.write(soup.prettify())"
   ]
  },
  {
   "cell_type": "code",
   "execution_count": 51,
   "metadata": {},
   "outputs": [
    {
     "output_type": "execute_result",
     "data": {
      "text/plain": [
       "[['F7資訊系', '體育室  ', 'I6物治系'],\n",
       " ['H1會計系', '體育室  ', 'B2外文系'],\n",
       " ['F1系統系', '體育室  ', '體育室  (數學系)'],\n",
       " [None, '體育室  ', 'I5醫學系'],\n",
       " ['F2都計系', '體育室  ', 'K5台文所'],\n",
       " ['F6測量系', '體育室  ', '體育室  (貴重儀器中心)'],\n",
       " ['P8醫工所', '體育室  ', 'I8藥學系']]"
      ]
     },
     "metadata": {},
     "execution_count": 51
    }
   ],
   "source": [
    "new_s = get_sport_raw('20201221', '排球')\n",
    "t = retreive_form(new_s)\n",
    "t\n",
    "# print(t)\n",
    "# print(type(new_s))\n",
    "# new_s = new_s.replace('<br/', '')\n",
    "# print(repr(new_s))"
   ]
  },
  {
   "cell_type": "code",
   "execution_count": 155,
   "metadata": {},
   "outputs": [],
   "source": [
    "seq = gen_dates('20201224', '20201231')\n",
    "def get_mapped_form(time_seq:list):\n",
    "    situation = {}\n",
    "    for dates in time_seq:\n",
    "        print(dates)\n",
    "        m = get_sport_raw(dates, '排球')\n",
    "        situation[dates] = retreive_form(m)\n",
    "        # print(situation)"
   ]
  },
  {
   "cell_type": "code",
   "execution_count": 147,
   "metadata": {},
   "outputs": [],
   "source": [
    "# find empty time\n",
    "def find_free_time(seq:list, gender:str='a'):\n",
    "    # gender = 'a' -> both gender\n",
    "    free = []\n",
    "    for dates in seq:\n",
    "        for row in range(7):\n",
    "            for column in range(3):\n",
    "                # print(type(situation[dates][row][column]))\n",
    "                if isinstance(situation[dates][row][column], type(None)):\n",
    "                    element = '{0} {1} {2}'.format(dates, time_dict[str(column)], court_dict[str(row*10+column).zfill(2)])\n",
    "                    if gender.lower() == 'b': # boy\n",
    "                        if row in [3, 4, 5]:\n",
    "                            continue\n",
    "                    elif gender.lower() == 'g': # girl\n",
    "                        if row not in [3, 4, 5]:\n",
    "                            continue\n",
    "                    free.append(element)\n",
    "    return free\n",
    "                    "
   ]
  },
  {
   "cell_type": "code",
   "execution_count": 153,
   "metadata": {
    "tags": []
   },
   "outputs": [],
   "source": [
    "# format outcome\n",
    "free = find_free_time(seq, 'g')\n",
    "def format_free_time(free:list):\n",
    "    new_free = []\n",
    "    if len(free) != 1:\n",
    "        old = -1\n",
    "        for lines in free:\n",
    "            if old == -1:\n",
    "                old = int(lines[4:8])\n",
    "            elif old != int(lines[4:8]):\n",
    "                old = int(lines[4:8])\n",
    "                new_free.append('-' * (len(lines)+6))\n",
    "            new_free.append(lines)\n",
    "    \n",
    "    return new_free"
   ]
  },
  {
   "cell_type": "code",
   "execution_count": 154,
   "metadata": {},
   "outputs": [
    {
     "output_type": "stream",
     "name": "stdout",
     "text": [
      "20201228 0600~1200 光復低場排球4\n20201228 0600~1200 光復低場排球5\n20201228 0600~1200 光復高場排球東\n--------------------------------\n20201229 0600~1200 光復低場排球4\n20201229 0600~1200 光復低場排球5\n20201229 0600~1200 光復高場排球東\n--------------------------------\n20201230 0600~1200 光復低場排球4\n20201230 0600~1200 光復低場排球5\n20201230 1800~2100 光復低場排球5\n20201230 0600~1200 光復高場排球東\n--------------------------------\n20201231 0600~1200 光復低場排球4\n20201231 1800~2100 光復低場排球4\n20201231 0600~1200 光復低場排球5\n20201231 0600~1200 光復高場排球東\n"
     ]
    }
   ],
   "source": [
    "for content in format_free_time(free):\n",
    "    print(content)"
   ]
  },
  {
   "cell_type": "code",
   "execution_count": 256,
   "metadata": {},
   "outputs": [],
   "source": [
    "soup = bs(result.text, 'html.parser')\n",
    "# soup"
   ]
  },
  {
   "cell_type": "code",
   "execution_count": 405,
   "metadata": {},
   "outputs": [],
   "source": [
    "class a:\n",
    "    value = 3"
   ]
  },
  {
   "cell_type": "code",
   "execution_count": 407,
   "metadata": {},
   "outputs": [],
   "source": [
    "def add(t):\n",
    "    print('before =', t.value)\n",
    "    t.value = 0\n",
    "    print('after =', t.value)\n",
    "    return t "
   ]
  },
  {
   "cell_type": "code",
   "execution_count": 176,
   "metadata": {},
   "outputs": [],
   "source": []
  },
  {
   "cell_type": "code",
   "execution_count": 285,
   "metadata": {},
   "outputs": [],
   "source": [
    "# display vcode\n",
    "def get_vcode():\n",
    "    session = requests.session()\n",
    "    print(session)\n",
    "    verify_url = 'https://cet.acad.ncku.edu.tw/ste/index.php?c=verifycode'\n",
    "    response = session.get(url=verify_url, stream=True, verify=False)\n",
    "    f = open('check.png', 'wb')\n",
    "    shutil.copyfileobj(response.raw, f)\n",
    "    f.close()\n",
    "\n",
    "    display(Image('./check.png'))"
   ]
  },
  {
   "cell_type": "code",
   "execution_count": 279,
   "metadata": {},
   "outputs": [],
   "source": [
    "# set cookie\n",
    "\n",
    "cookie_dict = session.cookies.get_dict()\n",
    "headers['Cookie'] = cookie_dict['PHPSESSID']"
   ]
  },
  {
   "cell_type": "code",
   "execution_count": 281,
   "metadata": {},
   "outputs": [
    {
     "output_type": "execute_result",
     "data": {
      "text/plain": [
       "{'User-Agent': 'Mozilla/5.0 (Macintosh; Intel Mac OS X 11_0_1) AppleWebKit/537.36 (KHTML, like Gecko) Chrome/87.0.4280.88 Safari/537.36',\n",
       " 'Cookie': 'd0a54734ae508c7328c88efb5c6ee78c'}"
      ]
     },
     "metadata": {},
     "execution_count": 281
    }
   ],
   "source": [
    "headers"
   ]
  },
  {
   "cell_type": "code",
   "execution_count": 289,
   "metadata": {},
   "outputs": [],
   "source": [
    "def login(user_id, passwd, vcode):\n",
    "    # vcode = input('輸入驗證碼：')\n",
    "    url = 'https://cet.acad.ncku.edu.tw/ste/index.php?c=auth&m=login'\n",
    "    print(vcode)\n",
    "    headers = {\n",
    "        'User-Agent': 'Mozilla/5.0 (Macintosh; Intel Mac OS X 11_0_1) AppleWebKit/537.36 (KHTML, like Gecko) Chrome/87.0.4280.88 Safari/537.36'\n",
    "    }\n",
    "\n",
    "    payload = {\n",
    "        'user_id': user_id,\n",
    "        'passwd': passwd,\n",
    "        'code': '',\n",
    "        'x': '22',\n",
    "        'y': '16'\n",
    "    }\n",
    "    payload['code'] = vcode\n",
    "\n",
    "    print(session)\n",
    "    a = session.post(url=url, headers=headers, data=payload)\n",
    "    print(a)"
   ]
  },
  {
   "cell_type": "code",
   "execution_count": 277,
   "metadata": {},
   "outputs": [
    {
     "output_type": "execute_result",
     "data": {
      "text/plain": [
       "dict_keys(['User-Agent'])"
      ]
     },
     "metadata": {},
     "execution_count": 277
    }
   ],
   "source": [
    "headers.keys()\n",
    "c = '3c33cf6cc15e794e2e82d5db1e95d4da'"
   ]
  },
  {
   "cell_type": "code",
   "execution_count": 278,
   "metadata": {},
   "outputs": [
    {
     "output_type": "execute_result",
     "data": {
      "text/plain": [
       "2950"
      ]
     },
     "metadata": {},
     "execution_count": 278
    }
   ],
   "source": [
    "a.text.find('排球')"
   ]
  },
  {
   "cell_type": "code",
   "execution_count": 290,
   "metadata": {},
   "outputs": [
    {
     "output_type": "stream",
     "name": "stdout",
     "text": [
      "<requests.sessions.Session object at 0x7f9c3cc15be0>\n"
     ]
    },
    {
     "output_type": "display_data",
     "data": {
      "image/png": "[encoded data removed]",
      "text/plain": "<IPython.core.display.Image object>"
     },
     "metadata": {}
    }
   ],
   "source": [
    "userID = input('USER ID')\n",
    "passwd = input('PASSWD')\n",
    "get_vcode()\n",
    "v = input('VCODE')"
   ]
  },
  {
   "cell_type": "code",
   "execution_count": 291,
   "metadata": {},
   "outputs": [
    {
     "output_type": "stream",
     "name": "stdout",
     "text": [
      "2811\n<requests.sessions.Session object at 0x7f9c3cc045e0>\nhttps://cet.acad.ncku.edu.tw/ste/index.php?c=auth&m=login&user_id=F74076077&passwd=Test1029384756&code=2811&x=43&y=23\n<Response [200]>\n"
     ]
    },
    {
     "output_type": "execute_result",
     "data": {
      "text/plain": [
       "'<html>\\n\\t<head>\\n\\t\\t<title>成功大學運動場地線上借場系統</title>\\n\\t\\t<LINK rel=\"shortcut icon\" href=\"images_icon/openwebmail.ico\">\\n\\t\\t<meta http-equiv=\"Content-type\" content=\"text/html; charset=utf8\" />\\n\\t\\t<meta name=\"robots\" content=\"index,follow,archive\" />\\n\\t\\t<link href=\"css/ste_style.css\" rel=\"stylesheet\" type=\"text/css\">\\n\\t\\t<link href=\"css/mis_grid.css\" rel=\"stylesheet\" type=\"text/css\">\\n\\t\\t\\t\\t\\n\\t\\t<link href=\"/nf/commons/v1.1.3/css/ncku-theme/jquery-ui-1.8.20.custom.css\" rel=\"stylesheet\" type=\"text/css\" /> \\n\\t\\t<script src=\"/nf/commons/v1.1.3/js/jquery.1.7.0.min.js\" type=\"text/javascript\"></script>\\n\\t\\t<script src=\"/nf/commons/v1.1.3/js/jquery-ui-1.8.20.custom.min.js\" type=\"text/javascript\"></script>\\n\\t\\t<script src=\"/nf/commons/v1.1.3/js/jquery.ui.datepicker-zh-TW_utf8.js\" type=\"text/javascript\"></script>\\n\\t\\t<script src=\"/nf/commons/v1.1.3/js/jquery.ztree.core-3.1.min.js\" type=\"text/javascript\"></script>\\n\\t\\t<script src=\"/nf/commons/v1.1.3/js/jquery.nyroModal-1.6.1.min.js\" type=\"text/javascript\"></script>\\n\\t\\t<script src=\"/nf/commons/v1.1.3/js/dialog.js\" type=\"text/javascript\"></script>\\n\\t\\t<script src=\"/nf/commons/v1.1.3/js/common.js\" type=\"text/javascript\"></script>\\n\\t\\t<link href=\"/nf/commons/v1.1.3/css/jquery_validate/validate.css\" rel=\"stylesheet\" type=\"text/css\" />\\n\\t\\t<script src=\"/nf/commons/v1.1.3/js/jquery-ui-timepicker-addon.js\"></script>\\n\\t\\t<script src=\"/nf/commons/v1.1.3/js/jquery.validate.js\" type=\"text/javascript\"></script>\\n\\t\\t<script src=\"/nf/commons/v1.1.3/js/customer.validate_utf8.js\" type=\"text/javascript\"></script>\\n\\t\\t<script src=\"/nf/commons/v1.1.3/js/jquery.blockUI.js\" type=\"text/javascript\"></script>\\n\\t\\t<script src=\"/nf/commons/v1.1.3/js/mis_grid.js\" type=\"text/javascript\"></script>\\n\\t\\t\\n\\t</head>\\n\\n\\t<body>\\n\\n\\t\\t<!--整體設定-->\\n\\t\\t<div id=\"sitemainpage\">\\n\\t\\t\\t<!--中間區塊背景設定-->\\n\\n\\t\\t\\t<div class=\"sitecontentbg\">\\n\\n\\t\\t\\t\\t<!--版頭設定-->\\n\\t\\t\\t\\t<div id=\"sitehead\">\\n\\t\\t\\t\\t\\t<div id=\"logo\" style=\"clear:both;\"></div>\\n\\t\\t\\t\\t</div>\\n\\t\\t\\t\\t<!--end版頭設定-->\\n\\t\\t\\t\\t<div style=\"overflow: auto;\">\\n\\t\\t\\t\\t<table width=\"100%\" cellpadding=\"0\" cellspacing=\"0\">\\n\\t\\t\\t\\t\\t<tr>\\n\\t\\t\\t\\t\\t\\t<td valign=\"top\" id=\"sitemenu21\" width=\"5%\">\\n\\n \\t\\t\\t\\t\\t\\t\\t \\n    \\t<div class=\\'welcome\\'>張祐誠(F74076077) | <a style=\\'font-weight:bold\\' href=\\'./index.php?c=auth&m=logout\\'>登出</a></div>\\t    \\t<h3>\\n\\t        <a href=\\'#section1\\' >借場作業</a>\\n\\t    \\t</h3>\\n\\t    \\t\\n\\t        <ul>\\n\\t   \\t\\t<li><a href=\\'./index.php?c=ste11211\\'>場地查詢</a></li>\\t\\n\\t\\t\\t</ul>\\n\\t   \\t\\t\\t\\n\\t\\t    \\t\\t\\n\\t\\t\\n\\t\\t\\n\\t  \\t\\n\\t\\n\\t\\n\\n<!--end jquery選單設定-->\\n\\n\\n\\n\\t\\t\\t\\t\\t\\t</td>\\n\\t\\t\\t\\t\\t\\t<td align=\"left\" valign=\"top\">\\n\\t\\t\\t\\t\\t\\t\\t<div id=\"sitecontent01\">\\n\\t\\t\\t\\t\\t\\t\\t\\t<h1>\\n\\t\\t\\t\\t\\t\\t\\t\\t場地查詢\\t\\t\\t\\t\\t\\t\\t\\t</h1>\\n\\t\\t\\t\\t\\t\\t\\t\\t</br>\\n\\t\\t\\t\\t\\t\\t        <script src=\"views/ste11211/js/ste11211.js?181015\"></script>\\n\\n<div id=\"site_cal\">\\n\\t<form id=\\'queryform\\'>\\n\\t\\t<table class=\"query_gray_table\">\\n\\t        <tr>\\n\\t        \\t<th>運動場地類別</th>\\n\\t        \\t<td>\\n\\t        \\t\\t<select id=\"sport\" name=\"sport\">\\n\\t\\t\\t\\t\\t\\t\\t<option value=\\'\\'>--請選擇類別--</option><option value=\\'A\\' >田徑</option><option value=\\'B\\' >足球</option><option value=\\'C\\' >籃球</option><option value=\\'D\\' >排球</option><option value=\\'E\\' >網球</option><option value=\\'F\\' >棒球</option><option value=\\'G\\' >壘球</option><option value=\\'H\\' >橄欖球</option><option value=\\'S\\' >羽球</option><option value=\\'T\\' >桌球</option>\\t\\t\\t\\t\\t</select>\\n\\t        \\t</td>\\t        \\t\\n\\t        </tr>\\n\\t        <tr>\\n\\t        \\t<th>日期</th>\\n\\t        \\t<td>\\n\\t                <input type=\\'text\\'  id=\\'sdate\\' name=\\'sdate\\' maxlength=\"10\"></input> <input type=\\'button\\' id=\\'query_button\\' value=\\'查詢\\'/>  \\n\\t\\t\\t\\t</td>\\n\\t        </tr>\\n    \\t</table>   \\n\\n\\n\\t</form>\\n\\t<div class=\"grid\" > \\n\\t\\t<div class=\\'cal_grid_content\\' style=\"min-height:450px;\">\\n\\t\\t</div>\\n\\t</div>\\n\\t\\n\\t\\n</div>\\t\\t\\t\\t\\t\\n\\n\\n\\n\\t\\t\\t\\t\\t\\n\\t\\n\\t\\t\\t\\t\\t\\t\\t</div><!--end內容設定-->\\n\\t\\t\\t\\t\\t\\t</td>\\n\\t\\t\\t\\t\\t</tr>\\n\\t\\t\\t\\t</table>\\n\\t\\t\\t\\t</div>\\n\\t\\t\\t\\t<div style=\"clear:both\"></div><!--清除浮動-->\\n\\t\\t\\t</div>\\n\\t\\t\\t<!--end中間區塊背景設定-->\\n\\n\\t\\t\\t<!--下方資訊設定開始-->\\n\\t\\t\\t<div id=\"siteinfo\">\\n\\t\\t\\t    版權所有：國立成功大學｜住址：70101 台南市東區大學路一號｜電話:(06)275-7575 轉 81819<br />服務時間:週一~週五 08:00~17:00｜Copyright (c) 2020 National Cheng Kung University all rights reserved<br />瀏覽本站建議使用1366×768解析度，服務信箱:<a href=\\'mailto:z10609051@email.ncku.edu.tw\\'>z10609051@email.ncku.edu.tw</a>｜系統設計: 國立成功大學  計算機與網路中心 資訊系統發展組\\t\\t\\t</div>\\n\\t\\t\\t<!--下方資訊設定結束-->\\n\\n\\t\\t</div>\\n\\t\\t</div>\\n\\t\\t<!--end整體設定-->\\n\\t</body>\\n</html>\\n'"
      ]
     },
     "metadata": {},
     "execution_count": 291
    }
   ],
   "source": [
    "login(userID, passwd, v)\n",
    "a.text"
   ]
  },
  {
   "cell_type": "code",
   "execution_count": 292,
   "metadata": {},
   "outputs": [],
   "source": [
    "cookie_dict = session.cookies.get_dict()\n",
    "headers['Cookie'] = cookie_dict['PHPSESSID']"
   ]
  },
  {
   "cell_type": "code",
   "execution_count": 293,
   "metadata": {},
   "outputs": [
    {
     "output_type": "stream",
     "name": "stdout",
     "text": [
      "<Response [200]>\n"
     ]
    }
   ],
   "source": [
    "# stay here\n",
    "url = 'https://cet.acad.ncku.edu.tw/ste/index.php?c=ste1121'\n",
    "session.get(url=url, headers=headers)\n",
    "print(a)"
   ]
  },
  {
   "cell_type": "code",
   "execution_count": 294,
   "metadata": {},
   "outputs": [
    {
     "output_type": "execute_result",
     "data": {
      "text/plain": [
       "'<html>\\n\\t<head>\\n\\t\\t<title>成功大學運動場地線上借場系統</title>\\n\\t\\t<LINK rel=\"shortcut icon\" href=\"images_icon/openwebmail.ico\">\\n\\t\\t<meta http-equiv=\"Content-type\" content=\"text/html; charset=utf8\" />\\n\\t\\t<meta name=\"robots\" content=\"index,follow,archive\" />\\n\\t\\t<link href=\"css/ste_style.css\" rel=\"stylesheet\" type=\"text/css\">\\n\\t\\t<link href=\"css/mis_grid.css\" rel=\"stylesheet\" type=\"text/css\">\\n\\t\\t\\t\\t\\n\\t\\t<link href=\"/nf/commons/v1.1.3/css/ncku-theme/jquery-ui-1.8.20.custom.css\" rel=\"stylesheet\" type=\"text/css\" /> \\n\\t\\t<script src=\"/nf/commons/v1.1.3/js/jquery.1.7.0.min.js\" type=\"text/javascript\"></script>\\n\\t\\t<script src=\"/nf/commons/v1.1.3/js/jquery-ui-1.8.20.custom.min.js\" type=\"text/javascript\"></script>\\n\\t\\t<script src=\"/nf/commons/v1.1.3/js/jquery.ui.datepicker-zh-TW_utf8.js\" type=\"text/javascript\"></script>\\n\\t\\t<script src=\"/nf/commons/v1.1.3/js/jquery.ztree.core-3.1.min.js\" type=\"text/javascript\"></script>\\n\\t\\t<script src=\"/nf/commons/v1.1.3/js/jquery.nyroModal-1.6.1.min.js\" type=\"text/javascript\"></script>\\n\\t\\t<script src=\"/nf/commons/v1.1.3/js/dialog.js\" type=\"text/javascript\"></script>\\n\\t\\t<script src=\"/nf/commons/v1.1.3/js/common.js\" type=\"text/javascript\"></script>\\n\\t\\t<link href=\"/nf/commons/v1.1.3/css/jquery_validate/validate.css\" rel=\"stylesheet\" type=\"text/css\" />\\n\\t\\t<script src=\"/nf/commons/v1.1.3/js/jquery-ui-timepicker-addon.js\"></script>\\n\\t\\t<script src=\"/nf/commons/v1.1.3/js/jquery.validate.js\" type=\"text/javascript\"></script>\\n\\t\\t<script src=\"/nf/commons/v1.1.3/js/customer.validate_utf8.js\" type=\"text/javascript\"></script>\\n\\t\\t<script src=\"/nf/commons/v1.1.3/js/jquery.blockUI.js\" type=\"text/javascript\"></script>\\n\\t\\t<script src=\"/nf/commons/v1.1.3/js/mis_grid.js\" type=\"text/javascript\"></script>\\n\\t\\t\\n\\t</head>\\n\\n\\t<body>\\n\\n\\t\\t<!--整體設定-->\\n\\t\\t<div id=\"sitemainpage\">\\n\\t\\t\\t<!--中間區塊背景設定-->\\n\\n\\t\\t\\t<div class=\"sitecontentbg\">\\n\\n\\t\\t\\t\\t<!--版頭設定-->\\n\\t\\t\\t\\t<div id=\"sitehead\">\\n\\t\\t\\t\\t\\t<div id=\"logo\" style=\"clear:both;\"></div>\\n\\t\\t\\t\\t</div>\\n\\t\\t\\t\\t<!--end版頭設定-->\\n\\t\\t\\t\\t<div style=\"overflow: auto;\">\\n\\t\\t\\t\\t<table width=\"100%\" cellpadding=\"0\" cellspacing=\"0\">\\n\\t\\t\\t\\t\\t<tr>\\n\\t\\t\\t\\t\\t\\t<td valign=\"top\" id=\"sitemenu21\" width=\"5%\">\\n\\n \\t\\t\\t\\t\\t\\t\\t \\n    \\t<div class=\\'welcome\\'>張祐誠(F74076077) | <a style=\\'font-weight:bold\\' href=\\'./index.php?c=auth&m=logout\\'>登出</a></div>\\t    \\t<h3>\\n\\t        <a href=\\'#section1\\' >借場作業</a>\\n\\t    \\t</h3>\\n\\t    \\t\\n\\t        <ul>\\n\\t   \\t\\t<li><a href=\\'./index.php?c=ste11211\\'>場地查詢</a></li>\\t\\n\\t\\t\\t</ul>\\n\\t   \\t\\t\\t\\n\\t\\t    \\t\\t\\n\\t\\t\\n\\t\\t\\n\\t  \\t\\n\\t\\n\\t\\n\\n<!--end jquery選單設定-->\\n\\n\\n\\n\\t\\t\\t\\t\\t\\t</td>\\n\\t\\t\\t\\t\\t\\t<td align=\"left\" valign=\"top\">\\n\\t\\t\\t\\t\\t\\t\\t<div id=\"sitecontent01\">\\n\\t\\t\\t\\t\\t\\t\\t\\t<h1>\\n\\t\\t\\t\\t\\t\\t\\t\\t場地查詢\\t\\t\\t\\t\\t\\t\\t\\t</h1>\\n\\t\\t\\t\\t\\t\\t\\t\\t</br>\\n\\t\\t\\t\\t\\t\\t        <script src=\"views/ste11211/js/ste11211.js?181015\"></script>\\n\\n<div id=\"site_cal\">\\n\\t<form id=\\'queryform\\'>\\n\\t\\t<table class=\"query_gray_table\">\\n\\t        <tr>\\n\\t        \\t<th>運動場地類別</th>\\n\\t        \\t<td>\\n\\t        \\t\\t<select id=\"sport\" name=\"sport\">\\n\\t\\t\\t\\t\\t\\t\\t<option value=\\'\\'>--請選擇類別--</option><option value=\\'A\\' >田徑</option><option value=\\'B\\' >足球</option><option value=\\'C\\' >籃球</option><option value=\\'D\\' >排球</option><option value=\\'E\\' >網球</option><option value=\\'F\\' >棒球</option><option value=\\'G\\' >壘球</option><option value=\\'H\\' >橄欖球</option><option value=\\'S\\' >羽球</option><option value=\\'T\\' >桌球</option>\\t\\t\\t\\t\\t</select>\\n\\t        \\t</td>\\t        \\t\\n\\t        </tr>\\n\\t        <tr>\\n\\t        \\t<th>日期</th>\\n\\t        \\t<td>\\n\\t                <input type=\\'text\\'  id=\\'sdate\\' name=\\'sdate\\' maxlength=\"10\"></input> <input type=\\'button\\' id=\\'query_button\\' value=\\'查詢\\'/>  \\n\\t\\t\\t\\t</td>\\n\\t        </tr>\\n    \\t</table>   \\n\\n\\n\\t</form>\\n\\t<div class=\"grid\" > \\n\\t\\t<div class=\\'cal_grid_content\\' style=\"min-height:450px;\">\\n\\t\\t</div>\\n\\t</div>\\n\\t\\n\\t\\n</div>\\t\\t\\t\\t\\t\\n\\n\\n\\n\\t\\t\\t\\t\\t\\n\\t\\n\\t\\t\\t\\t\\t\\t\\t</div><!--end內容設定-->\\n\\t\\t\\t\\t\\t\\t</td>\\n\\t\\t\\t\\t\\t</tr>\\n\\t\\t\\t\\t</table>\\n\\t\\t\\t\\t</div>\\n\\t\\t\\t\\t<div style=\"clear:both\"></div><!--清除浮動-->\\n\\t\\t\\t</div>\\n\\t\\t\\t<!--end中間區塊背景設定-->\\n\\n\\t\\t\\t<!--下方資訊設定開始-->\\n\\t\\t\\t<div id=\"siteinfo\">\\n\\t\\t\\t    版權所有：國立成功大學｜住址：70101 台南市東區大學路一號｜電話:(06)275-7575 轉 81819<br />服務時間:週一~週五 08:00~17:00｜Copyright (c) 2020 National Cheng Kung University all rights reserved<br />瀏覽本站建議使用1366×768解析度，服務信箱:<a href=\\'mailto:z10609051@email.ncku.edu.tw\\'>z10609051@email.ncku.edu.tw</a>｜系統設計: 國立成功大學  計算機與網路中心 資訊系統發展組\\t\\t\\t</div>\\n\\t\\t\\t<!--下方資訊設定結束-->\\n\\n\\t\\t</div>\\n\\t\\t</div>\\n\\t\\t<!--end整體設定-->\\n\\t</body>\\n</html>\\n'"
      ]
     },
     "metadata": {},
     "execution_count": 294
    }
   ],
   "source": [
    "a.text"
   ]
  },
  {
   "cell_type": "code",
   "execution_count": 308,
   "metadata": {},
   "outputs": [
    {
     "output_type": "display_data",
     "data": {
      "image/png": "[encoded data removed]",
      "text/plain": "<IPython.core.display.Image object>"
     },
     "metadata": {}
    }
   ],
   "source": [
    "# get verify code\n",
    "def get_verify_code():\n",
    "    verify_url = 'https://cet.acad.ncku.edu.tw/ste/index.php?c=verifycode'\n",
    "    response = requests.get(url=verify_url, stream=True, verify=False)\n",
    "    f = open('check.png', 'wb')\n",
    "    shutil.copyfileobj(response.raw, f)\n",
    "    f.close()\n",
    "\n",
    "get_verify_code()\n",
    "display(Image('./check.png'))"
   ]
  },
  {
   "cell_type": "code",
   "execution_count": 309,
   "metadata": {},
   "outputs": [
    {
     "output_type": "stream",
     "name": "stdout",
     "text": [
      "2325\n"
     ]
    }
   ],
   "source": [
    "from PIL import Image\n",
    "import pytesseract\n",
    "img = Image.open('check.png')\n",
    "text = pytesseract.image_to_string(img, lang='eng')\n",
    "print(text[0:4])"
   ]
  }
 ]
}