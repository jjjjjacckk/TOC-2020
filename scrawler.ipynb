{
 "metadata": {
  "language_info": {
   "codemirror_mode": {
    "name": "ipython",
    "version": 3
   },
   "file_extension": ".py",
   "mimetype": "text/x-python",
   "name": "python",
   "nbconvert_exporter": "python",
   "pygments_lexer": "ipython3",
   "version": "3.8.0-final"
  },
  "orig_nbformat": 2,
  "kernelspec": {
   "name": "python3",
   "display_name": "Python 3.8.0 64-bit ('TOC-2020': pipenv)",
   "metadata": {
    "interpreter": {
     "hash": "e5db2be6b29554a54e17b9b3b2206914bb6e333b487ff52226298b290ead3d34"
    }
   }
  }
 },
 "nbformat": 4,
 "nbformat_minor": 2,
 "cells": [
  {
   "cell_type": "code",
   "execution_count": 429,
   "metadata": {},
   "outputs": [],
   "source": [
    "import requests\n",
    "from lxml import html\n",
    "from bs4 import BeautifulSoup as bs"
   ]
  },
  {
   "cell_type": "code",
   "execution_count": 430,
   "metadata": {},
   "outputs": [],
   "source": [
    "sport_dict = {\n",
    "         '田徑'   : 'A',\n",
    "         '足球'   : 'B',\n",
    "         '籃球'   : 'C',\n",
    "         '排球'   : 'D',\n",
    "         '網球'   : 'E',\n",
    "         '棒球'   : 'F',\n",
    "         '壘球'   : 'G',\n",
    "         '橄欖球' : 'H',\n",
    "         '羽球'   : 'S',\n",
    "         '桌球'   : 'T'\n",
    "    }"
   ]
  },
  {
   "cell_type": "code",
   "execution_count": 490,
   "metadata": {},
   "outputs": [],
   "source": [
    "def get_sport_raw(date:str, sport_in:str):\n",
    "    session = requests.session()\n",
    "    url = 'https://cet.acad.ncku.edu.tw/ste/index.php?c=ste11211'\n",
    "    headers = {\n",
    "        'User-Agent': 'Mozilla/5.0 (Macintosh; Intel Mac OS X 11_0_1) AppleWebKit/537.36 (KHTML, like Gecko) Chrome/87.0.4280.88 Safari/537.36',\n",
    "        # 'Cookie': 'PHPSESSID=1aea228467450d51917fc7f8f835ff86',\n",
    "        'Cookie': 'PHPSESSID=034a060d5072fe85a95b24e83d0bf2f9'\n",
    "        # TODO: 把這邊的 Cookie 改成 CookieJar\n",
    "        # 'X-Requested-With': 'XMLHttpRequest'\n",
    "    }\n",
    "\n",
    "    payload = {\n",
    "        'sport': sport_dict[sport_in],\n",
    "        'sdate': date,\n",
    "        'c': 'ste11211',\n",
    "        'm': 'read'\n",
    "    }\n",
    "\n",
    "\n",
    "    login = requests.post(url=url, headers=headers, data=payload)\n",
    "    # volleyball = session.post(url=url_get, headers=headers, data=payload)\n",
    "    print(login.text)\n",
    "    # print(volleyball.text)\n",
    "    # with open('test.html', 'w', encoding='utf-8') as fp:\n",
    "    #     fp.write(volleyball.text)\n",
    "\n",
    "    # replace is for '體育室 <br/>(數學系)' (in raw)\n",
    "    # but in '體育室 <br>(數學系)' (in html)\n",
    "    # return bs(volleyball.text.replace('<br>', ''), 'html.parser')"
   ]
  },
  {
   "cell_type": "code",
   "execution_count": 491,
   "metadata": {},
   "outputs": [
    {
     "output_type": "stream",
     "name": "stdout",
     "text": [
      "<div class=\"site_table_div\" >\t\n\t<h2>\n\t\t2020年12月22日 \t</h2>\n\t<table class=\"gray_table2\">\n\t\t<thead>\n\t\t\t<tr>\n\t\t\t\t<!-- 顯示欄位標題 -->\n\t\t\t\t<th style='width:10%;'></th>\n\t\t\t\t<th style='width:5%;'>06:00</br>07:00</th><th style='width:5%;'>07:00</br>08:00</th><th style='width:5%;'>08:00</br>09:00</th><th style='width:5%;'>09:00</br>10:00</th><th style='width:5%;'>10:00</br>11:00</th><th style='width:5%;'>11:00</br>12:00</th><th style='width:5%;'>12:00</br>13:00</th><th style='width:5%;'>13:00</br>14:00</th><th style='width:5%;'>14:00</br>15:00</th><th style='width:5%;'>15:00</br>16:00</th><th style='width:5%;'>16:00</br>17:00</th><th style='width:5%;'>17:00</br>18:00</th><th style='width:5%;'>18:00</br>19:00</th><th style='width:5%;'>19:00</br>20:00</th><th style='width:5%;'>20:00</br>21:00</th>\t\t\t\t\n\t\t\t</tr>\n\t\t</thead>\n\t\t<tbody>\n\t\t\t<!-- 顯示資料 -->\n\t\t\t<tr><th>光復低場排球1</br>D1001</th><td colspan='6' class=\"cell3\">H2統計系</td><td colspan='6' class=\"cell4\">體育室  </td><td colspan='3' class=\"cell3\">Q1微電所</td></tr><tr><th>光復低場排球2</br>D1002</th><td colspan='6' ></td><td colspan='6' class=\"cell4\">體育室  </td><td colspan='3' class=\"cell3\">E8水利系</td></tr><tr><th>光復低場排球3</br>D1003</th><td colspan='6' ></td><td colspan='6' class=\"cell4\">體育室  </td><td colspan='3' class=\"cell3\">E4資源系</td></tr><tr><th>光復低場排球4</br>D1004</th><td colspan='6' class=\"cell3\">H2統計系</td><td colspan='6' class=\"cell4\">體育室  </td><td colspan='3' class=\"cell3\">E4資源系</td></tr><tr><th>光復低場排球5</br>D1005</th><td colspan='6' class=\"cell3\">E1機械系</td><td colspan='6' class=\"cell4\">體育室  </td><td colspan='3' class=\"cell3\">F7資訊系</td></tr><tr><th>光復高場排球東</br>D1006</th><td colspan='6' class=\"cell3\">H3工資系</td><td colspan='6' class=\"cell4\">體育室  </td><td colspan='3' class=\"cell3\">L2物理所</td></tr><tr><th>光復高場排球西</br>D1007</th><td colspan='6' ></td><td colspan='6' class=\"cell4\">體育室  </td><td colspan='3' class=\"cell3\">S9臨醫所</td></tr>\t\t</tbody>\n\t</table>\n\t</br>\n\t<table style='font-size: 10pt; color: #333333; float:right'>\n\t\t<tr>\n\t\t\t<td class='cell_w'>&nbsp;&nbsp;</td><td>可借用</td>\n\t\t\t<td class='cell4'>&nbsp;&nbsp;</td><td>不可借用</td>\n\t\t\t<td class='cell3'>&nbsp;&nbsp;</td><td>已借用</td>\n\t\t\t<td class='cell2'>&nbsp;&nbsp;</td><td>已預約</td>\n\t\t</tr>\n\t</table>\n</div>\n\n\n"
     ]
    }
   ],
   "source": [
    "get_sport_raw('20201222', '排球')"
   ]
  },
  {
   "cell_type": "code",
   "execution_count": 439,
   "metadata": {},
   "outputs": [],
   "source": [
    "def retreive_form(soup):\n",
    "    if not isinstance(soup, type(bs())):\n",
    "        raise TypeError(\"soup must be a \" + repr(type(bs())))\n",
    "    else:\n",
    "        form =[]\n",
    "        row = []\n",
    "        counter = 0\n",
    "        for content in new_s.find_all('td'):\n",
    "            # print(content, '\\t\\t', repr(content.string))\n",
    "            if content.string not in ('\\xa0\\xa0', '可借用', '不可借用', '已借用'):\n",
    "                if counter == 3:\n",
    "                    counter = 0\n",
    "                    form.append(row)\n",
    "                    row = []\n",
    "                row.append(content.string)\n",
    "                counter += 1\n",
    "    \n",
    "    return form"
   ]
  },
  {
   "cell_type": "code",
   "execution_count": 440,
   "metadata": {
    "tags": []
   },
   "outputs": [],
   "source": [
    "from datetime import datetime, timedelta\n",
    "def gen_dates(start:str, end:str):\n",
    "    start_date = datetime.strptime(start, '%Y%m%d')\n",
    "    end_date = datetime.strptime(end, '%Y%m%d')\n",
    "    serial = []\n",
    "    if (end_date - start_date).days >= 0:\n",
    "        for i in range((end_date - start_date).days+1):\n",
    "            tmp = start_date + timedelta(days=i)\n",
    "            serial.append('{0:>{3}4}{1:>{3}2}{2:>{3}2}'.format(tmp.year, tmp.month, tmp.day, 0))\n",
    "            \n",
    "    return serial"
   ]
  },
  {
   "cell_type": "code",
   "execution_count": 442,
   "metadata": {},
   "outputs": [],
   "source": [
    "# output to html file\n",
    "with open('test1.html', 'w', encoding='utf-8') as fp:\n",
    "    fp.write(soup.prettify())"
   ]
  },
  {
   "cell_type": "code",
   "execution_count": 443,
   "metadata": {},
   "outputs": [
    {
     "output_type": "stream",
     "name": "stdout",
     "text": [
      "[[None, '\\n\\t\\t\\t\\t\\t\\t\\t\\t\\t\\t\\t\\t\\t帳號\\n\\t\\t\\t\\t\\t\\t\\t\\t\\t\\t\\t\\t', None], ['\\n\\t\\t\\t\\t\\t\\t\\t\\t\\t\\t\\t\\t\\t密碼\\n\\t\\t\\t\\t\\t\\t\\t\\t\\t\\t\\t\\t', None, '\\n\\t\\t\\t\\t\\t\\t\\t\\t\\t\\t\\t\\t\\t驗證碼\\n\\t\\t\\t\\t\\t\\t\\t\\t\\t\\t\\t\\t']]\n"
     ]
    }
   ],
   "source": [
    "new_s = get_sport_raw('20201221', '排球')\n",
    "t = retreive_form(new_s)\n",
    "print(t)\n",
    "# print(type(new_s))\n",
    "# new_s = new_s.replace('<br/', '')\n",
    "# print(repr(new_s))"
   ]
  },
  {
   "cell_type": "code",
   "execution_count": null,
   "metadata": {},
   "outputs": [],
   "source": []
  },
  {
   "cell_type": "code",
   "execution_count": 423,
   "metadata": {},
   "outputs": [
    {
     "output_type": "execute_result",
     "data": {
      "text/plain": [
       "['20201202', '20201203', '20201204', '20201205']"
      ]
     },
     "metadata": {},
     "execution_count": 423
    }
   ],
   "source": [
    "gen_dates('20201202', '20201205')"
   ]
  },
  {
   "cell_type": "code",
   "execution_count": 396,
   "metadata": {},
   "outputs": [
    {
     "output_type": "execute_result",
     "data": {
      "text/plain": [
       "-48"
      ]
     },
     "metadata": {},
     "execution_count": 396
    }
   ],
   "source": [
    "(goal2 - goal).days"
   ]
  },
  {
   "cell_type": "code",
   "execution_count": 256,
   "metadata": {},
   "outputs": [],
   "source": [
    "soup = bs(result.text, 'html.parser')\n",
    "# soup"
   ]
  },
  {
   "cell_type": "code",
   "execution_count": 405,
   "metadata": {},
   "outputs": [],
   "source": [
    "class a:\n",
    "    value = 3"
   ]
  },
  {
   "cell_type": "code",
   "execution_count": 407,
   "metadata": {},
   "outputs": [],
   "source": [
    "def add(t):\n",
    "    print('before =', t.value)\n",
    "    t.value = 0\n",
    "    print('after =', t.value)\n",
    "    return t "
   ]
  },
  {
   "cell_type": "code",
   "execution_count": null,
   "metadata": {},
   "outputs": [],
   "source": []
  }
 ]
}