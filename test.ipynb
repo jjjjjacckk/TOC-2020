{
 "metadata": {
  "language_info": {
   "codemirror_mode": {
    "name": "ipython",
    "version": 3
   },
   "file_extension": ".py",
   "mimetype": "text/x-python",
   "name": "python",
   "nbconvert_exporter": "python",
   "pygments_lexer": "ipython3",
   "version": "3.8.0-final"
  },
  "orig_nbformat": 2,
  "kernelspec": {
   "name": "python3",
   "display_name": "Python 3.8.0 64-bit ('TOC-2020': pipenv)",
   "metadata": {
    "interpreter": {
     "hash": "e5db2be6b29554a54e17b9b3b2206914bb6e333b487ff52226298b290ead3d34"
    }
   }
  }
 },
 "nbformat": 4,
 "nbformat_minor": 2,
 "cells": [
  {
   "cell_type": "code",
   "execution_count": 36,
   "metadata": {},
   "outputs": [],
   "source": [
    "from PIL import Image as II\n",
    "import pytesseract\n",
    "import requests\n",
    "import shutil\n",
    "from lxml import html\n",
    "from bs4 import BeautifulSoup as bs\n",
    "from IPython.display import Image, display\n",
    "\n",
    "session = requests.session()\n",
    "headers = { 'User-Agent': 'Mozilla/5.0 (Macintosh; Intel Mac OS X 11_0_1) AppleWebKit/537.36 (KHTML, like Gecko) Chrome/87.0.4280.88 Safari/537.36' }\n",
    "\n",
    "def get_vcode():\n",
    "    global session\n",
    "    # session = requests.session()\n",
    "    print(session)\n",
    "    verify_url = 'https://cet.acad.ncku.edu.tw/ste/index.php?c=verifycode'\n",
    "    response = session.get(url=verify_url, stream=True, verify=False)\n",
    "    f = open('check1.png', 'wb')\n",
    "    shutil.copyfileobj(response.raw, f)\n",
    "    f.close()\n",
    "\n",
    "    display(Image('./check1.png'))\n",
    "\n",
    "def login(user_id, passwd, vcode):\n",
    "    # vcode = input('輸入驗證碼：')\n",
    "    global session, headers\n",
    "    url = 'https://cet.acad.ncku.edu.tw/ste/index.php?c=auth&m=login'\n",
    "    print(vcode)\n",
    "\n",
    "    payload = {\n",
    "        'user_id': user_id,\n",
    "        'passwd': passwd,\n",
    "        'code': '',\n",
    "        'x': '22',\n",
    "        'y': '16'\n",
    "    }\n",
    "    payload['code'] = vcode\n",
    "\n",
    "    print(session)\n",
    "    a = session.post(url=url, headers=headers, data=payload)\n",
    "    print(a)\n",
    "    return a\n"
   ]
  },
  {
   "cell_type": "code",
   "execution_count": 37,
   "metadata": {},
   "outputs": [
    {
     "output_type": "stream",
     "name": "stdout",
     "text": [
      "<requests.sessions.Session object at 0x7fa92dd0fcd0>\n"
     ]
    },
    {
     "output_type": "display_data",
     "data": {
      "image/png": "[encoded data removed]",
      "text/plain": "<IPython.core.display.Image object>"
     },
     "metadata": {}
    },
    {
     "output_type": "stream",
     "name": "stdout",
     "text": [
      "6732 .\n",
      "\f\n",
      "6732\n",
      "<requests.sessions.Session object at 0x7fa92dd0fcd0>\n",
      "<Response [200]>\n",
      "<html>\n",
      "\t<head>\n",
      "\t\t<title>成功大學運動場地線上借場系統</title>\n",
      "\t\t<LINK rel=\"shortcut icon\" href=\"images_icon/openwebmail.ico\">\n",
      "\t\t<meta http-equiv=\"Content-type\" content=\"text/html; charset=utf8\" />\n",
      "\t\t<meta name=\"robots\" content=\"index,follow,archive\" />\n",
      "\t\t<link href=\"css/ste_style.css\" rel=\"stylesheet\" type=\"text/css\">\n",
      "\t\t<link href=\"css/mis_grid.css\" rel=\"stylesheet\" type=\"text/css\">\n",
      "\t\t\t\t\n",
      "\t\t<link href=\"/nf/commons/v1.1.3/css/ncku-theme/jquery-ui-1.8.20.custom.css\" rel=\"stylesheet\" type=\"text/css\" /> \n",
      "\t\t<script src=\"/nf/commons/v1.1.3/js/jquery.1.7.0.min.js\" type=\"text/javascript\"></script>\n",
      "\t\t<script src=\"/nf/commons/v1.1.3/js/jquery-ui-1.8.20.custom.min.js\" type=\"text/javascript\"></script>\n",
      "\t\t<script src=\"/nf/commons/v1.1.3/js/jquery.ui.datepicker-zh-TW_utf8.js\" type=\"text/javascript\"></script>\n",
      "\t\t<script src=\"/nf/commons/v1.1.3/js/jquery.ztree.core-3.1.min.js\" type=\"text/javascript\"></script>\n",
      "\t\t<script src=\"/nf/commons/v1.1.3/js/jquery.nyroModal-1.6.1.min.js\" type=\"text/javascript\"></script>\n",
      "\t\t<script src=\"/nf/commons/v1.1.3/js/dialog.js\" type=\"text/javascript\"></script>\n",
      "\t\t<script src=\"/nf/commons/v1.1.3/js/common.js\" type=\"text/javascript\"></script>\n",
      "\t\t<link href=\"/nf/commons/v1.1.3/css/jquery_validate/validate.css\" rel=\"stylesheet\" type=\"text/css\" />\n",
      "\t\t<script src=\"/nf/commons/v1.1.3/js/jquery-ui-timepicker-addon.js\"></script>\n",
      "\t\t<script src=\"/nf/commons/v1.1.3/js/jquery.validate.js\" type=\"text/javascript\"></script>\n",
      "\t\t<script src=\"/nf/commons/v1.1.3/js/customer.validate_utf8.js\" type=\"text/javascript\"></script>\n",
      "\t\t<script src=\"/nf/commons/v1.1.3/js/jquery.blockUI.js\" type=\"text/javascript\"></script>\n",
      "\t\t<script src=\"/nf/commons/v1.1.3/js/mis_grid.js\" type=\"text/javascript\"></script>\n",
      "\t\t\n",
      "\t</head>\n",
      "\n",
      "\t<body>\n",
      "\n",
      "\t\t<!--整體設定-->\n",
      "\t\t<div id=\"sitemainpage\">\n",
      "\t\t\t<!--中間區塊背景設定-->\n",
      "\n",
      "\t\t\t<div class=\"sitecontentbg\">\n",
      "\n",
      "\t\t\t\t<!--版頭設定-->\n",
      "\t\t\t\t<div id=\"sitehead\">\n",
      "\t\t\t\t\t<div id=\"logo\" style=\"clear:both;\"></div>\n",
      "\t\t\t\t</div>\n",
      "\t\t\t\t<!--end版頭設定-->\n",
      "\t\t\t\t<div style=\"overflow: auto;\">\n",
      "\t\t\t\t<table width=\"100%\" cellpadding=\"0\" cellspacing=\"0\">\n",
      "\t\t\t\t\t<tr>\n",
      "\t\t\t\t\t\t<td valign=\"top\" id=\"sitemenu21\" width=\"5%\">\n",
      "\n",
      " \t\t\t\t\t\t\t \n",
      "    \t<div class='welcome'>張祐誠(F74076077) | <a style='font-weight:bold' href='./index.php?c=auth&m=logout'>登出</a></div>\t    \t<h3>\n",
      "\t        <a href='#section1' >借場作業</a>\n",
      "\t    \t</h3>\n",
      "\t    \t\n",
      "\t        <ul>\n",
      "\t   \t\t<li><a href='./index.php?c=ste11211'>場地查詢</a></li>\t\n",
      "\t\t\t</ul>\n",
      "\t   \t\t\t\n",
      "\t\t    \t\t\n",
      "\t\t\n",
      "\t\t\n",
      "\t  \t\n",
      "\t\n",
      "\t\n",
      "\n",
      "<!--end jquery選單設定-->\n",
      "\n",
      "\n",
      "\n",
      "\t\t\t\t\t\t</td>\n",
      "\t\t\t\t\t\t<td align=\"left\" valign=\"top\">\n",
      "\t\t\t\t\t\t\t<div id=\"sitecontent01\">\n",
      "\t\t\t\t\t\t\t\t<h1>\n",
      "\t\t\t\t\t\t\t\t場地查詢\t\t\t\t\t\t\t\t</h1>\n",
      "\t\t\t\t\t\t\t\t</br>\n",
      "\t\t\t\t\t\t        <script src=\"views/ste11211/js/ste11211.js?181015\"></script>\n",
      "\n",
      "<div id=\"site_cal\">\n",
      "\t<form id='queryform'>\n",
      "\t\t<table class=\"query_gray_table\">\n",
      "\t        <tr>\n",
      "\t        \t<th>運動場地類別</th>\n",
      "\t        \t<td>\n",
      "\t        \t\t<select id=\"sport\" name=\"sport\">\n",
      "\t\t\t\t\t\t\t<option value=''>--請選擇類別--</option><option value='A' >田徑</option><option value='B' >足球</option><option value='C' >籃球</option><option value='D' >排球</option><option value='E' >網球</option><option value='F' >棒球</option><option value='G' >壘球</option><option value='H' >橄欖球</option><option value='S' >羽球</option><option value='T' >桌球</option>\t\t\t\t\t</select>\n",
      "\t        \t</td>\t        \t\n",
      "\t        </tr>\n",
      "\t        <tr>\n",
      "\t        \t<th>日期</th>\n",
      "\t        \t<td>\n",
      "\t                <input type='text'  id='sdate' name='sdate' maxlength=\"10\"></input> <input type='button' id='query_button' value='查詢'/>  \n",
      "\t\t\t\t</td>\n",
      "\t        </tr>\n",
      "    \t</table>   \n",
      "\n",
      "\n",
      "\t</form>\n",
      "\t<div class=\"grid\" > \n",
      "\t\t<div class='cal_grid_content' style=\"min-height:450px;\">\n",
      "\t\t</div>\n",
      "\t</div>\n",
      "\t\n",
      "\t\n",
      "</div>\t\t\t\t\t\n",
      "\n",
      "\n",
      "\n",
      "\t\t\t\t\t\n",
      "\t\n",
      "\t\t\t\t\t\t\t</div><!--end內容設定-->\n",
      "\t\t\t\t\t\t</td>\n",
      "\t\t\t\t\t</tr>\n",
      "\t\t\t\t</table>\n",
      "\t\t\t\t</div>\n",
      "\t\t\t\t<div style=\"clear:both\"></div><!--清除浮動-->\n",
      "\t\t\t</div>\n",
      "\t\t\t<!--end中間區塊背景設定-->\n",
      "\n",
      "\t\t\t<!--下方資訊設定開始-->\n",
      "\t\t\t<div id=\"siteinfo\">\n",
      "\t\t\t    版權所有：國立成功大學｜住址：70101 台南市東區大學路一號｜電話:(06)275-7575 轉 81819<br />服務時間:週一~週五 08:00~17:00｜Copyright (c) 2020 National Cheng Kung University all rights reserved<br />瀏覽本站建議使用1366×768解析度，服務信箱:<a href='mailto:z10609051@email.ncku.edu.tw'>z10609051@email.ncku.edu.tw</a>｜系統設計: 國立成功大學  計算機與網路中心 資訊系統發展組\t\t\t</div>\n",
      "\t\t\t<!--下方資訊設定結束-->\n",
      "\n",
      "\t\t</div>\n",
      "\t\t</div>\n",
      "\t\t<!--end整體設定-->\n",
      "\t</body>\n",
      "</html>\n",
      "\n"
     ]
    }
   ],
   "source": [
    "userID = input('USER ID')\n",
    "passwd = input('PASSWD')\n",
    "get_vcode()\n",
    "\n",
    "img = II.open('check1.png')\n",
    "text = pytesseract.image_to_string(img, lang='eng')\n",
    "print(text)\n",
    "\n",
    "# v = input('VCODE')\n",
    "\n",
    "a = login(userID, passwd, text[0:4])\n",
    "print(a.text)\n",
    "\n",
    "# cookie_dict = session.cookies.get_dict()\n",
    "# headers['Cookie'] = cookie_dict['PHPSESSID']\n",
    "# print(headers)"
   ]
  },
  {
   "cell_type": "code",
   "execution_count": 38,
   "metadata": {},
   "outputs": [
    {
     "output_type": "execute_result",
     "data": {
      "text/plain": [
       "{'User-Agent': 'Mozilla/5.0 (Macintosh; Intel Mac OS X 11_0_1) AppleWebKit/537.36 (KHTML, like Gecko) Chrome/87.0.4280.88 Safari/537.36'}"
      ]
     },
     "metadata": {},
     "execution_count": 38
    }
   ],
   "source": [
    "headers"
   ]
  },
  {
   "cell_type": "code",
   "execution_count": 40,
   "metadata": {},
   "outputs": [
    {
     "output_type": "stream",
     "name": "stdout",
     "text": [
      "<div class=\"site_table_div\" >\t\n\t<h2>\n\t\t2020年12月26日 \t</h2>\n\t<table class=\"gray_table2\">\n\t\t<thead>\n\t\t\t<tr>\n\t\t\t\t<!-- 顯示欄位標題 -->\n\t\t\t\t<th style='width:10%;'></th>\n\t\t\t\t<th style='width:5%;'>06:00</br>07:00</th><th style='width:5%;'>07:00</br>08:00</th><th style='width:5%;'>08:00</br>09:00</th><th style='width:5%;'>09:00</br>10:00</th><th style='width:5%;'>10:00</br>11:00</th><th style='width:5%;'>11:00</br>12:00</th><th style='width:5%;'>12:00</br>13:00</th><th style='width:5%;'>13:00</br>14:00</th><th style='width:5%;'>14:00</br>15:00</th><th style='width:5%;'>15:00</br>16:00</th><th style='width:5%;'>16:00</br>17:00</th><th style='width:5%;'>17:00</br>18:00</th><th style='width:5%;'>18:00</br>19:00</th><th style='width:5%;'>19:00</br>20:00</th><th style='width:5%;'>20:00</br>21:00</th>\t\t\t\t\n\t\t\t</tr>\n\t\t</thead>\n\t\t<tbody>\n\t\t\t<!-- 顯示資料 -->\n\t\t\t<tr><th>光復低場排球1</br>D1001</th><td colspan='6' class=\"cell4\">體育室  <br>(排球聯盟賽)</td><td colspan='6' class=\"cell4\">體育室  <br>(排球聯盟賽)</td><td colspan='3' class=\"cell2\">L4地科所(20201224)</td></tr><tr><th>光復低場排球2</br>D1002</th><td colspan='6' class=\"cell4\">體育室  <br>(排球聯盟賽)</td><td colspan='6' class=\"cell4\">體育室  <br>(排球聯盟賽)</td><td colspan='3' ></td></tr><tr><th>光復低場排球3</br>D1003</th><td colspan='6' class=\"cell4\">體育室  <br>(排球聯盟賽)</td><td colspan='6' class=\"cell4\">體育室  <br>(排球聯盟賽)</td><td colspan='3' ></td></tr><tr><th>光復低場排球4</br>D1004</th><td colspan='6' class=\"cell4\">體育室  <br>(成功盃)</td><td colspan='6' class=\"cell4\">體育室  <br>(成功盃)</td><td colspan='3' class=\"cell3\">S9臨醫所</td></tr><tr><th>光復低場排球5</br>D1005</th><td colspan='6' class=\"cell4\">體育室  <br>(成功盃)</td><td colspan='6' class=\"cell4\">體育室  <br>(成功盃)</td><td colspan='3' class=\"cell3\">P3工設所</td></tr><tr><th>光復高場排球東</br>D1006</th><td colspan='6' class=\"cell4\">體育室  <br>(成功盃)</td><td colspan='6' class=\"cell4\">體育室  <br>(成功盃)</td><td colspan='3' ></td></tr><tr><th>光復高場排球西</br>D1007</th><td colspan='6' class=\"cell4\">體育室  <br>(成功盃)</td><td colspan='6' class=\"cell4\">體育室  <br>(成功盃)</td><td colspan='3' class=\"cell2\">C2物理系(20201224)</td></tr>\t\t</tbody>\n\t</table>\n\t</br>\n\t<table style='font-size: 10pt; color: #333333; float:right'>\n\t\t<tr>\n\t\t\t<td class='cell_w'>&nbsp;&nbsp;</td><td>可借用</td>\n\t\t\t<td class='cell4'>&nbsp;&nbsp;</td><td>不可借用</td>\n\t\t\t<td class='cell3'>&nbsp;&nbsp;</td><td>已借用</td>\n\t\t\t<td class='cell2'>&nbsp;&nbsp;</td><td>已預約</td>\n\t\t</tr>\n\t</table>\n</div>\n\n\n"
     ]
    }
   ],
   "source": [
    "# stay here\n",
    "url = 'https://cet.acad.ncku.edu.tw/ste/index.php?c=ste11211'\n",
    "payload = {\n",
    "    'c': 'ste11211',\n",
    "    'm': 'read',\n",
    "    'sport': 'D',\n",
    "    'sdate': '20201226'\n",
    "}\n",
    "t = session.post(url=url, headers=headers, data=payload)\n",
    "print(t.text)"
   ]
  },
  {
   "cell_type": "code",
   "execution_count": 33,
   "metadata": {},
   "outputs": [
    {
     "output_type": "stream",
     "name": "stdout",
     "text": [
      "{'PHPSESSID': 'bb6d0ef3f92e9b7e647e1c3a7e9f2451'}\n"
     ]
    }
   ],
   "source": [
    "cookie_dict = session.cookies.get_dict()\n",
    "print(cookie_dict)\n",
    "headers['Cookie'] = cookie_dict['PHPSESSID']"
   ]
  },
  {
   "cell_type": "code",
   "execution_count": 35,
   "metadata": {},
   "outputs": [
    {
     "output_type": "execute_result",
     "data": {
      "text/plain": [
       "{'User-Agent': 'Mozilla/5.0 (Macintosh; Intel Mac OS X 11_0_1) AppleWebKit/537.36 (KHTML, like Gecko) Chrome/87.0.4280.88 Safari/537.36',\n",
       " 'Cookie': 'bb6d0ef3f92e9b7e647e1c3a7e9f2451'}"
      ]
     },
     "metadata": {},
     "execution_count": 35
    }
   ],
   "source": [
    "headers"
   ]
  },
  {
   "cell_type": "code",
   "execution_count": 34,
   "metadata": {},
   "outputs": [
    {
     "output_type": "stream",
     "name": "stdout",
     "text": [
      "<!DOCTYPE html PUBLIC \"-//W3C//DTD XHTML 1.0 Transitional//EN\" \"http://www.w3.org/TR/xhtml1/DTD/xhtml1-transitional.dtd\">\n<html xmlns=\"http://www.w3.org/1999/xhtml\">\n\t<head>\n\t\t<title>成功大學運動場地線上借場系統</title>\n\t\t<LINK rel=\"shortcut icon\" href=\"images_icon/openwebmail.ico\">\n\t\t<meta http-equiv=\"Content-type\" content=\"text/html; charset=utf8\" />\n\t\t<meta name=\"robots\" content=\"index,follow,archive\" />\n\t\t<link href=\"css/ste_style.css\" rel=\"stylesheet\" type=\"text/css\">\n\t\t\t\t\n\t\t<link href=\"/nf/commons/v1.1.3/css/ncku-theme/jquery-ui-1.8.20.custom.css\" rel=\"stylesheet\" type=\"text/css\" /> \n\t\t<script src=\"/nf/commons/v1.1.3/js/jquery.1.7.0.min.js\" type=\"text/javascript\"></script>\n\t\t<script src=\"/nf/commons/v1.1.3/js/jquery-ui-1.8.20.custom.min.js\" type=\"text/javascript\"></script>\n\t\t<script src=\"/nf/commons/v1.1.3/js/jquery.ui.datepicker-zh-TW_utf8.js\" type=\"text/javascript\"></script>\n\t\t<script src=\"/nf/commons/v1.1.3/js/jquery.ztree.core-3.1.min.js\" type=\"text/javascript\"></script>\n\t\t<script src=\"/nf/commons/v1.1.3/js/jquery.nyroModal-1.6.1.min.js\" type=\"text/javascript\"></script>\n\t\t<script src=\"/nf/commons/v1.1.3/js/dialog.js\" type=\"text/javascript\"></script>\n\t\t<script src=\"/nf/commons/v1.1.3/js/common.js\" type=\"text/javascript\"></script>\n\t\t<link href=\"/nf/commons/v1.1.3/css/jquery_validate/validate.css\" rel=\"stylesheet\" type=\"text/css\" />\n\t\t<script src=\"/nf/commons/v1.1.3/js/jquery-ui-timepicker-addon.js\"></script>\n\t\t<script src=\"/nf/commons/v1.1.3/js/jquery.validate.js\" type=\"text/javascript\"></script>\n\t\t<script src=\"/nf/commons/v1.1.3/js/customer.validate_utf8.js\" type=\"text/javascript\"></script>\n\t\t<script src=\"/nf/commons/v1.1.3/js/jquery.blockUI.js\" type=\"text/javascript\"></script>\n\t\t<script src=\"/nf/commons/v1.1.3/js/mis_grid.js\" type=\"text/javascript\"></script>\n\n\t</head>\n\t<style>\n\t\t.btn-default {\n\t\t  display: inline-block;\n\t\t  padding: 6px 12px;\n\t\t  margin-bottom: 0;\n\t\t  font-size: 12px;\n\t\t  font-weight: normal;\n\t\t  text-align: center;\n\t\t  white-space: nowrap;\n\t\t  vertical-align: middle; \n\t\t  cursor: pointer;  \n\t\t  border: 1px solid transparent;\n\t\t  border-radius: 4px;\n\t\t  border-color: #ccc;\n\t\t  color: #333;\n\t\t  background-color: #FDFDFD;\n\t\t  \n\t\t}\n\t\t\n\t\t.btn-default:hover,\n\t\t.btn-default:focus,\n\t\t.btn-default.focus,\n\t\t.btn-default:active,\n\t\t.btn-default.active,\n\t\t.open > .dropdown-toggle.btn-default {\n\t\t  color: #333;\n\t\t  background-color: #e6e6e6;\n\t\t  border-color: #adadad;\n\t\t}\n\t\t\n\t\t\n\t\t.btn-default img {\n\t\t    vertical-align: middle;\n\t\t}\n\t\t\n\t</style>\n\n\t<body>\n\n\t\t<!--整體設定-->\n\t\t<div id=\"sitemainpage\">\n\t\t\t<!--中間區塊背景設定-->\n\n\t\t\t<div class=\"sitecontentbg\">\n\n\t\t\t\t<!--版頭設定-->\n\t\t\t\t<div id=\"sitehead\">\n\t\t\t\t\t<div id=\"logo\" style=\"clear:both;\"></div>\n\t\t\t\t</div>\n\t\t\t\t<!--end版頭設定-->\n\t\t\t\t<div style=\"overflow: auto;\">\n\t\t\t\t<table width=\"100%\" cellpadding=\"0\" cellspacing=\"0\">\n\t\t\t\t\t<tr>\n\t\t\t\t\t\t<td width=\"5%\"  valign=\"top\" height=\"100%\" id=\"sitemenu21\">\n\t\t\t\t\t\t<div >\n\t\t\t\t\t\t\t<!--帳號登入開始-->\n\t\t\t\t\t\t\t <form id=\"LoginForm\" name=\"LoginForm\" action=\"./index.php?c=auth&m=login\" method='post' >\n\t\t\t\t\t\t\t\t<div id=\"membg\" >\n\n\t\t\t\t\t\t\t\t\t<div id=\"login_member\" style=\"height:250px;\">\n\t\t\t\t\t\t\t\t\t\t<br/>\n\t\t\t\t\t\t\t\t\t\t<br/>\n\t\t\t\t\t\t\t\t\t\t學生及教職員帳密同<a href=\"https://i.ncku.edu.tw\" target=\"_blank\" style=\"text-decoration: underline;\">成功入口</a>\t\n\t\t\t\t\t\t\t\t\t\t\n\t\t\t\t\t\t\t\t\t\t<br/>\n\t\t\t\t\t\t\t\t\t\t<br/>\n\t\t\t\t\t\t\t\t\t\t<table>\n\t\t\t\t\t\t\t\t\t\t\t\n\t\t\t\t\t\t\t\t\t\t\t<tr>\n\t\t\t\t\t\t\t\t\t\t\t\t<td style='width:55px'>\n\t\t\t\t\t\t\t\t\t\t\t\t\t帳號\n\t\t\t\t\t\t\t\t\t\t\t\t</td>\n\t\t\t\t\t\t\t\t\t\t\t\t<td style='width:145px'>\n\t\t\t\t\t\t\t\t\t\t\t\t\t<input type=\"text\" name=\"user_id\" id=\"user_id\" style=\"align:right;width:110px; color:#666666;\" value=\"\"  >\n\t\t\t\t\t\t\t\t\t\t\t\t</td>\n\t\t\t\t\t\t\t\t\t\t\t</tr>\n\t\t\t\t\t\t\t\t\t\t\t<tr>\n\t\t\t\t\t\t\t\t\t\t\t\t<td>\n\t\t\t\t\t\t\t\t\t\t\t\t\t密碼\n\t\t\t\t\t\t\t\t\t\t\t\t</td>\n\t\t\t\t\t\t\t\t\t\t\t\t<td>\n\t\t\t\t\t\t\t\t\t\t\t\t\t<input type=\"password\" name=\"passwd\" id=\"passwd\" style=\"width:110px; color:#666666;\" value=\"\">\n\t\t\t\t\t\t\t\t\t\t\t\t</td>\n\t\t\t\t\t\t\t\t\t\t\t</tr>\t\t\t\t\t\t\t\t\t\t\t\n\t\t\t\t\t\t\t\t\t\t\t<tr>\n\t\t\t\t\t\t\t\t\t\t\t\t<td>\n\t\t\t\t\t\t\t\t\t\t\t\t\t驗證碼\n\t\t\t\t\t\t\t\t\t\t\t\t</td>\n\t\t\t\t\t\t\t\t\t\t\t\t<td>\n\t\t\t\t\t\t\t\t\t\t\t\t\t<input type=\"text\" name=\"code\" id=\"code\" size='4' style=\"color:#666666;\" dataType=\"Require\" msg=\"驗證碼未輸入\">\n\t                \t\t\t\t\t\t\t<img src=\"./index.php?c=verifycode\" hspace=\"3\" align=\"absmiddle\" class=\"click\" onclick=\"this.src='./index.php?c=verifycode&'+Math.random();\"/>\n\t\t\t\t\t\t\t\t\t\t\t\t</td>\n\t\t\t\t\t\t\t\t\t\t\t</tr>\n\t\t\t\t\t\t\t\t\t\t\t<tr>\n\t\t\t\t\t\t\t\t\t\t\t\t<td colspan=\"2\">\n\t\t\t\t\t\t\t\t\t\t\t\t\t<div align=\"center\">\n\t\t\t\t\t\t\t\t\t\t\t\t\t\t\n\t\t\t\t\t\t\t\t\t\t\t    \t\t<input type=\"image\" src=\"images/login2.png\" vspace=\"5\" align=\"absmiddle\" /><br />\n\t\t\t\t\t\t\t\t\t\t\t    \t\t\n\t                \t\t\t\t\t\t\t\t\t<font color=\"red\">&nbsp</font>\n\t                \t\t\t\t\t\t\t\t</div>\n\t\t\t\t\t\t\t\t\t\t\t\t</td>\n\t\t\t\t\t\t\t\t\t\t\t</tr>\t\t\t\t\t\t\t\t\t\t\n\t\t\t\t\t\t\t\t\t\t\t\n\t                \t\t\t\t\t</table>\n\t\t\t\t\t\t\t\t\t</div>\n\t\t\t\t\t\t\t\t</div>\n\t\t\t\t\t\t\t</form>\n\t\t\t\t\t\t\t\n\t\t\t\t\t\t\t<div style=\"clear:both;\">\n\t\t\t\t\t\t\t\t<br>\n\t\t\t\t\t\t\t\t<a class='btn-default'  href=\"./index.php?c=auth&m=ilogin\"  >使用<img src=\"images/logo_portal.png\" alt=\"「成功入口」\"  width=\"125px\">登入</a>\n\t\t\t\t\t\t\t\t<font color=\"red\" style=\"font-size: 14px;\">&nbsp</font>\n\t\t\t\t\t\t\t</div>\n\t\t\t\t\t\t\t\n\t\t\t\t\t\t\t<!--帳號登入結束-->\n\t\t\t\t\t\t\t\n\t\t\t\t\t\t</div></td><td align=\"left\" valign=\"top\">\n\n\t\t\t\t\t\t<div id=\"sitecontent01\" >\n\t\t\t\t\t\t\t<div id='news_view'>\t\t\t\t\t\t\t\t\n\t\t\t\t\t\t\t\t\t\t\t\t\t\t\t</div>\t\t\t\t\t\t\t\n\t\t\t\t\t\t\t<h1>場地借用規則說明</h1></br>\n\t\t\t\t\t        <strong><span style='color:#0000ff; font-size:20px;'>109學年度第一學期 開放借場時間：2020/09/03 09:00:00 <br/>可借用時段：2020/09/07 - 2021/01/10 </span></strong></br></br>\n<ol class=\"memo\">\n\t<li>當天不能借、過去時段不能借。</li>\n\t<strong><span style=\"color:#ff0000;\">\n\t<li>超過限繳日未繳費，取消預留場次。</li>\n\t<li>限繳日：當天+3 ex.8/18借，限繳日為8/21 00:00</br>\n\t             若限繳日超過使用日期，則須於使用日期前繳費 ex.8/18借8/19，限繳日為8/19 00:00。</li>\n\t</span> </strong>\n\t<li>時段已過或當日不可取消，已繳費不可取消。</li>\n\t<li>借用額度每系(不分男女)每學期6場次，研究所每學期(不分男女)3場次，取消時額度立即回復。</br>\n\t\t(棒、壘及橄欖球額度為每系每學期4場次)\t</li>\n\t<li>額度使用完後隔天0點才回復 ex.借8/18 1個時段，到8/19 00:00時額度+1。</li>\n\t<li>本線上借場系統僅適用一般練球借用，若有任何盃賽或活動(需繳交企劃書者)，敬請攜帶活動企劃書至體育室臨櫃辦理。</li>\n\t<li>本線上借場系統開放全校室外運動場地借用，室內運動場館(包括中正堂體育館、健休中心)仍按原借場方式辦理。</li>\n\t<li>若無法登入本系統及任何借用問題，請洽體育室林先生(分機：81819)辦理。</li>\n\t<li>取消借用後3天內不可再次借用相同的場地時段。</li>\n</ol>\n\n\t\t\t\t\t\t</div><!--end內容設定--></td>\n\t\t\t\t\t</tr>\n\t\t\t\t</table>\n\t\t\t\t</div>\n\t\t\t\t<div style=\"clear:both\"></div><!--清除浮動-->\n\t\t\t</div>\n\t\t\t<!--end中間區塊背景設定-->\n\n\t\t\t<!--下方資訊設定開始-->\n\t\t\t<div id=\"siteinfo\">\n\t\t\t    若您無法順利登入本系統，請洽體育室承辦人 詢問</br>版權所有：國立成功大學｜住址：70101 台南市東區大學路一號｜電話:(06)275-7575 轉 81819<br />服務時間:週一~週五 08:00~17:00｜Copyright (c) 2020 National Cheng Kung University all rights reserved<br />瀏覽本站建議使用1366×768解析度，服務信箱:<a href='mailto:z10609051@email.ncku.edu.tw'>z10609051@email.ncku.edu.tw</a>｜系統設計: 國立成功大學  計算機與網路中心 資訊系統發展組\t\t\t</div>\n\t\t\t<!--下方資訊設定結束-->\n\n\t\t</div>\n\t\t</div>\n\t\t<!--end整體設定-->\n\t</body>\n</html>\n\n"
     ]
    }
   ],
   "source": [
    "url = 'https://cet.acad.ncku.edu.tw/ste/index.php?c=ste11211'\n",
    "payload = {\n",
    "    'c': 'ste11211',\n",
    "    'm': 'read',\n",
    "    'sport': 'D',\n",
    "    'sdate': '20201225'\n",
    "}\n",
    "t = session.post(url=url, headers=headers, data=payload)\n",
    "print(t.text)"
   ]
  }
 ]
}